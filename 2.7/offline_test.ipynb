{
 "cells": [
  {
   "cell_type": "code",
   "execution_count": 1,
   "metadata": {},
   "outputs": [],
   "source": [
    "import os,sys,time\n",
    "import tensorflow as tf\n",
    "import numpy as np\n",
    "import librosa\n",
    "sys.path.insert(0, './scripts')\n",
    "sys.path.insert(0, './models')\n",
    "import e2e_model as nn_model_foreval\n",
    "\n",
    "def cmvn_slide(feat,winlen=300,cmvn=False): #feat : (length, dim) 2d matrix\n",
    "# function for Cepstral Mean Variance Nomalization\n",
    "\n",
    "    maxlen = np.shape(feat)[0]\n",
    "    new_feat = np.empty_like(feat)\n",
    "    cur = 1\n",
    "    leftwin = 0\n",
    "    rightwin = winlen/2\n",
    "    \n",
    "    # middle\n",
    "    for cur in range(maxlen):\n",
    "        cur_slide = feat[cur-leftwin:cur+rightwin,:] \n",
    "        #cur_slide = feat[cur-winlen/2:cur+winlen/2,:]\n",
    "        mean =np.mean(cur_slide,axis=0)\n",
    "        std = np.std(cur_slide,axis=0)\n",
    "        if cmvn == 'mv':\n",
    "            new_feat[cur,:] = (feat[cur,:]-mean)/std # for cmvn        \n",
    "        elif cmvn =='m':\n",
    "            new_feat[cur,:] = (feat[cur,:]-mean) # for cmn\n",
    "        if leftwin<winlen/2:\n",
    "            leftwin+=1\n",
    "        elif maxlen-cur < winlen/2:\n",
    "            rightwin-=1    \n",
    "    return new_feat\n",
    "\n",
    "\n",
    "def feat_extract(filelist,feat_type,n_fft_length=512,hop=160,vad=True,cmvn=False,exclude_short=500):\n",
    "# function for feature extracting\n",
    "        \n",
    "    feat = []\n",
    "    utt_shape = []\n",
    "    new_utt_label =[]\n",
    "    for index,wavname in enumerate(filelist):\n",
    "        #read audio input\n",
    "        y, sr = librosa.core.load(wavname,sr=16000,mono=True,dtype='float')\n",
    "\n",
    "        #extract feature\n",
    "        if feat_type =='melspec':\n",
    "            Y = librosa.feature.melspectrogram(y,sr,n_fft=n_fft_length,hop_length=hop,n_mels=40,fmin=133,fmax=6955)\n",
    "        elif feat_type =='mfcc':\n",
    "            Y = librosa.feature.mfcc(y,sr,n_fft=n_fft_length,hop_length=hop,n_mfcc=40,fmin=133,fmax=6955)\n",
    "        elif feat_type =='spec':\n",
    "            Y = np.abs( librosa.core.stft(y,n_fft=n_fft_length,hop_length=hop,win_length=400) )\n",
    "        elif feat_type =='logspec':\n",
    "            Y = np.log( np.abs( librosa.core.stft(y,n_fft=n_fft_length,hop_length=hop,win_length=400) ) )\n",
    "        elif feat_type =='logmel':\n",
    "            Y = np.log( librosa.feature.melspectrogram(y,sr,n_fft=n_fft_length,hop_length=hop,n_mels=40,fmin=133,fmax=6955) )\n",
    "\n",
    "        Y = Y.transpose()\n",
    "        \n",
    "        \n",
    "        # Simple VAD based on the energy\n",
    "        if vad:\n",
    "            E = librosa.feature.rmse(y, frame_length=n_fft_length,hop_length=hop,)\n",
    "            threshold= np.mean(E)/2 * 1.04\n",
    "            vad_segments = np.nonzero(E>threshold)\n",
    "            if vad_segments[1].size!=0:\n",
    "                Y = Y[vad_segments[1],:]\n",
    "\n",
    "                \n",
    "        #exclude short utterance under \"exclude_short\" value\n",
    "        if exclude_short == 0 or (Y.shape[0] > exclude_short):\n",
    "            if cmvn:\n",
    "                Y = cmvn_slide(Y,300,cmvn)\n",
    "            feat.append(Y)\n",
    "            utt_shape.append(np.array(Y.shape))\n",
    "#             new_utt_label.append(utt_label[index])\n",
    "            sys.stdout.write('%s\\r' % index)\n",
    "            sys.stdout.flush()\n",
    "            \n",
    "        if index ==0:\n",
    "            break\n",
    "\n",
    "        \n",
    "    tffilename = feat_type+'_fft'+str(n_fft_length)+'_hop'+str(hop)\n",
    "    if vad:\n",
    "        tffilename += '_vad'\n",
    "    if cmvn=='m':\n",
    "        tffilename += '_cmn'\n",
    "    elif cmvn =='mv':\n",
    "        tffilename += '_cmvn'\n",
    "    if exclude_short >0:\n",
    "        tffilename += '_exshort'+str(exclude_short)\n",
    "\n",
    "    return feat, new_utt_label, utt_shape, tffilename #feat : (length, dim) 2d matrix\n",
    "    \n",
    "    "
   ]
  },
  {
   "cell_type": "code",
   "execution_count": 2,
   "metadata": {},
   "outputs": [
    {
     "name": "stdout",
     "output_type": "stream",
     "text": [
      "0.224723815918 seconds\n",
      "(1, 914, 40)\n"
     ]
    }
   ],
   "source": [
    "# Feature extraction configuration\n",
    "FEAT_TYPE = 'logmel'\n",
    "N_FFT = 400\n",
    "HOP = 160\n",
    "VAD = True\n",
    "CMVN = 'mv'\n",
    "EXCLUDE_SHORT=0\n",
    "IS_BATCHNORM = False\n",
    "IS_TRAINING = False\n",
    "INPUT_DIM = 40\n",
    "\n",
    "# extracting mfcc for input wavfile\n",
    "FILENAME = ['/data/sls/qcri/asr/data/vardial/vardial2017/test.vardial2017/wav/EGY/04d3ad10aceb69fcfb3a55d102ba7cff_M_0004_116.66_129.74.wav']\n",
    "start_time = time.time()\n",
    "\n",
    "feat, utt_label, utt_shape, tffilename = feat_extract(FILENAME,FEAT_TYPE,N_FFT,HOP,VAD,CMVN,EXCLUDE_SHORT)\n",
    "\n",
    "elapsed_time = time.time() - start_time\n",
    "print format(elapsed_time) + ' seconds'\n",
    "print np.shape(feat)"
   ]
  },
  {
   "cell_type": "code",
   "execution_count": 3,
   "metadata": {},
   "outputs": [
    {
     "name": "stderr",
     "output_type": "stream",
     "text": [
      "/data/sls/u/swshon/tools/pytf/local/lib/python2.7/site-packages/h5py/__init__.py:36: FutureWarning: Conversion of the second argument of issubdtype from `float` to `np.floating` is deprecated. In future, it will be treated as `np.float64 == np.dtype(float).type`.\n",
      "  from ._conv import register_converters as _register_converters\n"
     ]
    },
    {
     "name": "stdout",
     "output_type": "stream",
     "text": [
      "Tensor(\"transpose:0\", shape=(?, ?, ?), dtype=float32)\n",
      "Tensor(\"transpose_1:0\", shape=(?, ?, ?), dtype=float32)\n",
      "Tensor(\"transpose_2:0\", shape=(?, ?, ?), dtype=float32)\n",
      "Tensor(\"transpose_3:0\", shape=(?, ?, ?), dtype=float32)\n",
      "Tensor(\"Mul:0\", shape=(?, ?, 500), dtype=float32)\n",
      "(?, 3000)\n",
      "(?, 1500)\n",
      "(?, 600)\n",
      "WARNING:tensorflow:From /data/sls/u/swshon/tools/pytf/local/lib/python2.7/site-packages/tensorflow/python/util/tf_should_use.py:175: initialize_all_variables (from tensorflow.python.ops.variables) is deprecated and will be removed after 2017-03-02.\n",
      "Instructions for updating:\n",
      "Use `tf.global_variables_initializer` instead.\n",
      "INFO:tensorflow:Restoring parameters from ./data/pretrained_model/model1284000.ckpt-1284000\n"
     ]
    }
   ],
   "source": [
    "# Variable Initialization    \n",
    "\n",
    "softmax_num = 5\n",
    "x = tf.placeholder(tf.float32, [None,None,40])\n",
    "y = tf.placeholder(tf.int32, [None])\n",
    "s = tf.placeholder(tf.int32, [None,2])\n",
    "\n",
    "emnet_validation = nn_model_foreval.nn(x,y,y,s,softmax_num,IS_TRAINING,INPUT_DIM,IS_BATCHNORM);\n",
    "sess = tf.InteractiveSession()\n",
    "saver = tf.train.Saver()\n",
    "tf.initialize_all_variables().run()\n",
    "\n",
    "### Loading neural network \n",
    "saver.restore(sess,'./data/pretrained_model/model1284000.ckpt-1284000')"
   ]
  },
  {
   "cell_type": "code",
   "execution_count": 4,
   "metadata": {},
   "outputs": [
    {
     "name": "stdout",
     "output_type": "stream",
     "text": [
      "2.9759850502 seconds\n"
     ]
    }
   ],
   "source": [
    "start_time = time.time()\n",
    "\n",
    "likelihood= emnet_validation.o1.eval({x:feat, s:utt_shape})\n",
    "\n",
    "elapsed_time = time.time() - start_time\n",
    "print format(elapsed_time) + ' seconds'"
   ]
  },
  {
   "cell_type": "code",
   "execution_count": 5,
   "metadata": {},
   "outputs": [
    {
     "name": "stdout",
     "output_type": "stream",
     "text": [
      "The Input wav file /data/sls/qcri/asr/data/vardial/vardial2017/test.vardial2017/wav/EGY/04d3ad10aceb69fcfb3a55d102ba7cff_M_0004_116.66_129.74.wav is\n",
      " [Egytion]\n"
     ]
    },
    {
     "data": {
      "text/plain": [
       "Text(0.5,1,u'Dialect identification offline test result')"
      ]
     },
     "execution_count": 5,
     "metadata": {},
     "output_type": "execute_result"
    },
    {
     "data": {
      "image/png": "[encoded data removed]",
      "text/plain": [
       "<matplotlib.figure.Figure at 0x7f23f87798d0>"
      ]
     },
     "metadata": {},
     "output_type": "display_data"
    }
   ],
   "source": [
    "# Print out the results in barplot\n",
    "# print likelihood\n",
    "dialect_index = np.argmax(likelihood)\n",
    "\n",
    "print 'The Input wav file '+FILENAME[0]+' is'\n",
    "if dialect_index == 0:\n",
    "    print ' [Egytion]'\n",
    "elif dialect_index == 1:\n",
    "    print ' [Gulf]'\n",
    "elif dialect_index == 2:\n",
    "    print ' [Levantine]'\n",
    "elif dialect_index == 3:\n",
    "    print ' [Modern Standard Arabic]'\n",
    "elif dialect_index == 4:\n",
    "    print ' [North African]'\n",
    "    \n",
    "\n",
    "import matplotlib.pyplot as plt; plt.rcdefaults()\n",
    "import matplotlib.pyplot as plt\n",
    "# matplotlib.use('Agg')\n",
    "%matplotlib inline\n",
    "\n",
    "x = np.arange(5)\n",
    "dialects = ['Egytion','Gulf','Levantine','MSA','North Africa']\n",
    "plt.bar(x,likelihood[0],align='center')\n",
    "plt.xticks(x,dialects)\n",
    "plt.ylabel('Likelihood')\n",
    "plt.title('Dialect identification offline test result')"
   ]
  }
 ],
 "metadata": {
  "kernelspec": {
   "display_name": "Python 2",
   "language": "python",
   "name": "python2"
  },
  "language_info": {
   "codemirror_mode": {
    "name": "ipython",
    "version": 2
   },
   "file_extension": ".py",
   "mimetype": "text/x-python",
   "name": "python",
   "nbconvert_exporter": "python",
   "pygments_lexer": "ipython2",
   "version": "2.7.6"
  }
 },
 "nbformat": 4,
 "nbformat_minor": 2
}
