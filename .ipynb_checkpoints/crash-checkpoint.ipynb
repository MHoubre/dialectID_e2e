{
 "cells": [
  {
   "cell_type": "code",
   "execution_count": 1,
   "metadata": {},
   "outputs": [],
   "source": [
    "import os,sys,time\n",
    "\n",
    "import tensorflow.compat.v1 as tf\n",
    "\n",
    "########## You have to replace the line above by those two if you have tensorflow > 1.X\n",
    "# tf.compat.v1.disable_eager_execution()\n",
    "# tf.disable_v2_behavior()\n",
    "##########\n",
    "import numpy as np\n",
    "import librosa\n",
    "sys.path.insert(0, './scripts')\n",
    "sys.path.insert(0, './models')\n",
    "import e2e_model as nn_model_foreval\n",
    "\n",
    "def cmvn_slide(feat,winlen=300,cmvn=False): #feat : (length, dim) 2d matrix\n",
    "# function for Cepstral Mean Variance Normalization\n",
    "\n",
    "    maxlen = np.shape(feat)[0]\n",
    "    new_feat = np.empty_like(feat)\n",
    "    cur = 1\n",
    "    leftwin = 0\n",
    "    rightwin = winlen/2\n",
    "    \n",
    "    # middle\n",
    "    for cur in range(maxlen):\n",
    "        cur_slide = feat[cur-leftwin:cur+rightwin,:] \n",
    "        #cur_slide = feat[cur-winlen/2:cur+winlen/2,:]\n",
    "        mean =np.mean(cur_slide,axis=0)\n",
    "        std = np.std(cur_slide,axis=0)\n",
    "        if cmvn == 'mv':\n",
    "            new_feat[cur,:] = (feat[cur,:]-mean)/std # for cmvn        \n",
    "        elif cmvn =='m':\n",
    "            new_feat[cur,:] = (feat[cur,:]-mean) # for cmn\n",
    "        if leftwin<winlen/2:\n",
    "            leftwin+=1\n",
    "        elif maxlen-cur < winlen/2:\n",
    "            rightwin-=1    \n",
    "    return new_feat\n",
    "\n",
    "\n",
    "def feat_extract(filelist,feat_type,n_fft_length=512,hop=160,vad=True,cmvn=False,exclude_short=500):\n",
    "# function for feature extracting\n",
    "        \n",
    "    feat = []\n",
    "    utt_shape = []\n",
    "    new_utt_label =[]\n",
    "    for index,wavname in enumerate(filelist):\n",
    "        print wavname\n",
    "        #read audio input\n",
    "        y, sr = librosa.core.load(wavname,sr=16000,mono=True,dtype='float')\n",
    "\n",
    "        #extract feature\n",
    "        if feat_type =='melspec':\n",
    "            Y = librosa.feature.melspectrogram(y,sr,n_fft=n_fft_length,hop_length=hop,n_mels=40,fmin=133,fmax=6955)\n",
    "        elif feat_type =='mfcc':\n",
    "            Y = librosa.feature.mfcc(y,sr,n_fft=n_fft_length,hop_length=hop,n_mfcc=40,fmin=133,fmax=6955)\n",
    "        elif feat_type =='spec':\n",
    "            Y = np.abs( librosa.core.stft(y,n_fft=n_fft_length,hop_length=hop,win_length=400) )\n",
    "        elif feat_type =='logspec':\n",
    "            Y = np.log( np.abs( librosa.core.stft(y,n_fft=n_fft_length,hop_length=hop,win_length=400) ) )\n",
    "        elif feat_type =='logmel':\n",
    "            Y = np.log( librosa.feature.melspectrogram(y,sr,n_fft=n_fft_length,hop_length=hop,n_mels=40,fmin=133,fmax=6955) )\n",
    "\n",
    "        Y = Y.transpose()\n",
    "        \n",
    "        \n",
    "        # Simple VAD based on the energy\n",
    "        if vad:\n",
    "            E = librosa.feature.rmse(y, frame_length=n_fft_length,hop_length=hop,)\n",
    "            threshold= np.mean(E)/2 * 1.04\n",
    "            vad_segments = np.nonzero(E>threshold)\n",
    "            if vad_segments[1].size!=0:\n",
    "                Y = Y[vad_segments[1],:]\n",
    "\n",
    "                \n",
    "        #exclude short utterance under \"exclude_short\" value\n",
    "        if exclude_short == 0 or (Y.shape[0] > exclude_short):\n",
    "            if cmvn:\n",
    "                Y = cmvn_slide(Y,300,cmvn)\n",
    "            feat.append(Y)\n",
    "            utt_shape.append(np.array(Y.shape))\n",
    "#             new_utt_label.append(utt_label[index])\n",
    "            sys.stdout.write('%s\\r' % index)\n",
    "            sys.stdout.flush()\n",
    "            \n",
    "            \n",
    "        #If you uncomment this, you will only treat your FIRST file    \n",
    "#         if index ==0:\n",
    "#             break\n",
    "\n",
    "        \n",
    "    tffilename = feat_type+'_fft'+str(n_fft_length)+'_hop'+str(hop)\n",
    "    if vad:\n",
    "        tffilename += '_vad'\n",
    "    if cmvn=='m':\n",
    "        tffilename += '_cmn'\n",
    "    elif cmvn =='mv':\n",
    "        tffilename += '_cmvn'\n",
    "    if exclude_short >0:\n",
    "        tffilename += '_exshort'+str(exclude_short)\n",
    "\n",
    "    return feat, new_utt_label, utt_shape, tffilename #feat : (length, dim) 2d matrix\n",
    "    \n",
    "    "
   ]
  },
  {
   "cell_type": "code",
   "execution_count": 2,
   "metadata": {},
   "outputs": [
    {
     "name": "stdout",
     "output_type": "stream",
     "text": [
      "data/EGY000001.wav\n",
      "data/GLF000001.wav\n",
      "1.00844407082 seconds\n",
      "(2,)\n"
     ]
    }
   ],
   "source": [
    "# Feature extraction configuration\n",
    "FEAT_TYPE = 'logmel'\n",
    "N_FFT = 400\n",
    "HOP = 160\n",
    "VAD = True\n",
    "CMVN = 'mv'\n",
    "EXCLUDE_SHORT=0\n",
    "IS_BATCHNORM = False\n",
    "IS_TRAINING = False\n",
    "INPUT_DIM = 40\n",
    "\n",
    "# extracting mfcc for input wavfile\n",
    "FILENAME = ['data/EGY000001.wav','data/GLF000001.wav']\n",
    "start_time = time.time()\n",
    "\n",
    "feat, utt_label, utt_shape, tffilename = feat_extract(FILENAME,FEAT_TYPE,N_FFT,HOP,VAD,CMVN,EXCLUDE_SHORT)\n",
    "\n",
    "elapsed_time = time.time() - start_time\n",
    "print format(elapsed_time) + ' seconds'\n",
    "print np.shape(utt_shape[1])"
   ]
  },
  {
   "cell_type": "code",
   "execution_count": 3,
   "metadata": {},
   "outputs": [
    {
     "name": "stdout",
     "output_type": "stream",
     "text": [
      "WARNING:tensorflow:\n",
      "The TensorFlow contrib module will not be included in TensorFlow 2.0.\n",
      "For more information, please see:\n",
      "  * https://github.com/tensorflow/community/blob/master/rfcs/20180907-contrib-sunset.md\n",
      "  * https://github.com/tensorflow/addons\n",
      "  * https://github.com/tensorflow/io (for I/O related ops)\n",
      "If you depend on functionality not listed there, please file an issue.\n",
      "\n",
      "WARNING:tensorflow:From ./models/e2e_model.py:139: where (from tensorflow.python.ops.array_ops) is deprecated and will be removed in a future version.\n",
      "Instructions for updating:\n",
      "Use tf.where in 2.0, which has the same broadcast rule as np.where\n",
      "Tensor(\"transpose:0\", shape=(?, ?, ?), dtype=float32)\n",
      "Tensor(\"transpose_1:0\", shape=(?, ?, ?), dtype=float32)\n",
      "Tensor(\"transpose_2:0\", shape=(?, ?, ?), dtype=float32)\n",
      "Tensor(\"transpose_3:0\", shape=(?, ?, ?), dtype=float32)\n",
      "Tensor(\"Mul:0\", shape=(?, ?, 500), dtype=float32)\n",
      "WARNING:tensorflow:From ./models/e2e_model.py:94: calling reduce_sum_v1 (from tensorflow.python.ops.math_ops) with keep_dims is deprecated and will be removed in a future version.\n",
      "Instructions for updating:\n",
      "keep_dims is deprecated, use keepdims instead\n",
      "(?, 3000)\n",
      "WARNING:tensorflow:From ./models/e2e_model.py:123: The name tf.random_uniform is deprecated. Please use tf.random.uniform instead.\n",
      "\n",
      "(?, 1500)\n",
      "(?, 600)\n",
      "WARNING:tensorflow:From /home/mael/dialectid/local/lib/python2.7/site-packages/tensorflow/python/training/saver.py:1276: checkpoint_exists (from tensorflow.python.training.checkpoint_management) is deprecated and will be removed in a future version.\n",
      "Instructions for updating:\n",
      "Use standard file APIs to check for files with this prefix.\n",
      "INFO:tensorflow:Restoring parameters from ./data/pretrained_model/model1284000.ckpt-1284000\n"
     ]
    }
   ],
   "source": [
    "# Variable Initialization    \n",
    "\n",
    "softmax_num = 5\n",
    "x = tf.placeholder(tf.float32, [None,None,40])\n",
    "y = tf.placeholder(tf.int32, [None])\n",
    "s = tf.placeholder(tf.int32, [None,2])\n",
    "\n",
    "emnet_validation = nn_model_foreval.nn(x,y,y,s,softmax_num,IS_TRAINING,INPUT_DIM,IS_BATCHNORM)\n",
    "sess = tf.InteractiveSession()\n",
    "saver = tf.train.Saver()\n",
    "tf.global_variables_initializer()\n",
    "\n",
    "### Loading neural network \n",
    "saver.restore(sess,'./data/pretrained_model/model1284000.ckpt-1284000')"
   ]
  },
  {
   "cell_type": "code",
   "execution_count": 4,
   "metadata": {},
   "outputs": [
    {
     "name": "stdout",
     "output_type": "stream",
     "text": [
      "0.0809729099274 seconds\n"
     ]
    }
   ],
   "source": [
    "start_time = time.time()\n",
    "\n",
    "for i,f in enumerate(feat):\n",
    "    likelihood= emnet_validation.o1.eval({x:[feat[i]], s:[utt_shape[i]]})\n",
    "\n",
    "\n",
    "elapsed_time = time.time() - start_time\n",
    "print format(elapsed_time) + ' seconds'"
   ]
  },
  {
   "cell_type": "code",
   "execution_count": 5,
   "metadata": {},
   "outputs": [
    {
     "name": "stdout",
     "output_type": "stream",
     "text": [
      "The Input wav file data/EGY000001.wav is\n",
      " [Gulf]\n"
     ]
    },
    {
     "data": {
      "text/plain": [
       "Text(0.5,1,'Dialect identification offline test result')"
      ]
     },
     "execution_count": 5,
     "metadata": {},
     "output_type": "execute_result"
    },
    {
     "data": {
      "image/png": "[encoded data removed]",
      "text/plain": [
       "<Figure size 432x288 with 1 Axes>"
      ]
     },
     "metadata": {
      "needs_background": "light"
     },
     "output_type": "display_data"
    }
   ],
   "source": [
    "# Print out the results in barplot\n",
    "# print likelihood\n",
    "dialect_index = np.argmax(likelihood)\n",
    "\n",
    "print 'The Input wav file '+FILENAME[0]+' is'\n",
    "if dialect_index == 0:\n",
    "    print ' [Egyptian]'\n",
    "elif dialect_index == 1:\n",
    "    print ' [Gulf]'\n",
    "elif dialect_index == 2:\n",
    "    print ' [Levantine]'\n",
    "elif dialect_index == 3:\n",
    "    print ' [Modern Standard Arabic]'\n",
    "elif dialect_index == 4:\n",
    "    print ' [North African]'\n",
    "    \n",
    "\n",
    "import matplotlib.pyplot as plt; plt.rcdefaults()\n",
    "import matplotlib.pyplot as plt\n",
    "# matplotlib.use('Agg')\n",
    "%matplotlib inline\n",
    "\n",
    "x = np.arange(5)\n",
    "dialects = ['Egytion','Gulf','Levantine','MSA','North Africa']\n",
    "plt.bar(x,likelihood[0],align='center')\n",
    "plt.xticks(x,dialects)\n",
    "plt.ylabel('Likelihood')\n",
    "plt.title('Dialect identification offline test result')"
   ]
  },
  {
   "cell_type": "code",
   "execution_count": null,
   "metadata": {},
   "outputs": [],
   "source": []
  }
 ],
 "metadata": {
  "kernelspec": {
   "display_name": "Python 2",
   "language": "python",
   "name": "python2"
  },
  "language_info": {
   "codemirror_mode": {
    "name": "ipython",
    "version": 2
   },
   "file_extension": ".py",
   "mimetype": "text/x-python",
   "name": "python",
   "nbconvert_exporter": "python",
   "pygments_lexer": "ipython2",
   "version": "2.7.17"
  }
 },
 "nbformat": 4,
 "nbformat_minor": 2
}
